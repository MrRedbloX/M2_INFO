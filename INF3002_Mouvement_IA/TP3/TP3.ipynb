{
 "cells": [
  {
   "cell_type": "code",
   "execution_count": 14,
   "metadata": {},
   "outputs": [],
   "source": [
    "from glob import glob\n",
    "import pandas as pd\n",
    "import numpy as np\n",
    "\n",
    "PATH = './PositionHandJoints'"
   ]
  },
  {
   "cell_type": "code",
   "execution_count": 2,
   "metadata": {},
   "outputs": [],
   "source": [
    "def read_pos(path):\n",
    "    data = {}\n",
    "    files = glob(path+'/*.csv')\n",
    "    for file in files:\n",
    "        data[file.split('\\\\')[1].split('.')[0]] = pd.read_csv(file, sep=' ')\n",
    "    return data\n",
    "\n",
    "positions = read_pos(PATH)"
   ]
  },
  {
   "cell_type": "code",
   "execution_count": 3,
   "metadata": {},
   "outputs": [],
   "source": [
    "def stats(path):\n",
    "    files_right = glob(path+'/RH*.csv')\n",
    "    files_left = glob(path+'/LH*.csv')\n",
    "    print(len(files_right))\n",
    "    print(len(files_left))\n",
    "\n",
    "def identify_classes(path):\n",
    "    classes = set()\n",
    "    files = [f.split('\\\\')[1].split('.')[0] for f in glob(path+'/*.csv')]\n",
    "    for file in files:\n",
    "        classes.add(file.split('_')[-1])\n",
    "    return list(classes)\n",
    "\n",
    "def construct_dataset(path):\n",
    "    classes = identify_classes(PATH)\n",
    "    dataset = {}\n",
    "    for classe in classes:\n",
    "        file_classe = glob(path+f'/*{classe}.csv')\n",
    "        columns = []\n",
    "        values = []\n",
    "        for fc in file_classe:\n",
    "            df = pd.read_csv(fc, sep=' ')\n",
    "            values.extend(df.values)\n",
    "            columns.extend([c.replace('Right_', '').replace('Left_', '') for c in df.columns])\n",
    "        columns = set(columns)\n",
    "        dataset[classe] = pd.DataFrame(values, columns=columns).fillna(0)\n",
    "    return dataset\n",
    "\n",
    "dataset = construct_dataset(PATH)"
   ]
  },
  {
   "cell_type": "code",
   "execution_count": 43,
   "metadata": {},
   "outputs": [
    {
     "name": "stdout",
     "output_type": "stream",
     "text": [
      "(32,)\n"
     ]
    }
   ],
   "source": [
    "# dataset['Personne']\n",
    "from sklearn.model_selection import train_test_split\n",
    "from sklearn.preprocessing import StandardScaler\n",
    "\n",
    "keys = list(dataset.keys())\n",
    "target = list(map(lambda x: keys.index(x), keys))\n",
    "data = []\n",
    "for key in keys:\n",
    "    data.append(dataset[key].values)\n",
    "data = np.asarray(data)\n",
    "print(data.shape)\n",
    "X_train, X_test, y_train, y_test = train_test_split(data, target, test_size=0.15, random_state=37)\n",
    "X_train = np.asarray(X_train)\n",
    "X_test = np.asarray(X_test)\n",
    "\n",
    "\n",
    "scaler = StandardScaler()\n",
    "# X_train = scaler.fit_transform(X_train.reshape(-1, X_train.shape[-1])).reshape(X_train.shape)\n",
    "# print(X_test)"
   ]
  },
  {
   "cell_type": "code",
   "execution_count": null,
   "metadata": {},
   "outputs": [],
   "source": []
  }
 ],
 "metadata": {
  "kernelspec": {
   "display_name": "Python 3",
   "language": "python",
   "name": "python3"
  },
  "language_info": {
   "codemirror_mode": {
    "name": "ipython",
    "version": 3
   },
   "file_extension": ".py",
   "mimetype": "text/x-python",
   "name": "python",
   "nbconvert_exporter": "python",
   "pygments_lexer": "ipython3",
   "version": "3.8.3"
  }
 },
 "nbformat": 4,
 "nbformat_minor": 4
}
