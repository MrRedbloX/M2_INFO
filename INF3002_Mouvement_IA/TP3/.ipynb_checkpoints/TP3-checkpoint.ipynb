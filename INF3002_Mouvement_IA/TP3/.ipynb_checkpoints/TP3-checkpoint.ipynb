{
 "cells": [
  {
   "cell_type": "markdown",
   "metadata": {},
   "source": [
    "# TP - Reconnaissance de configurations manuelles Python et Scikit-Learn"
   ]
  },
  {
   "cell_type": "code",
   "execution_count": 2,
   "metadata": {},
   "outputs": [],
   "source": [
    "# def read_pos(path):\n",
    "#     data = {}\n",
    "#     files = glob(path+'/*.csv')\n",
    "#     for file in files:\n",
    "#         data[file.split('\\\\')[1].split('.')[0]] = pd.read_csv(file, sep=' ')\n",
    "#     return data\n",
    "\n",
    "# positions = read_pos(PATH)\n",
    "\n",
    "# def stats(path):\n",
    "#     files_right = glob(path+'/RH*.csv')\n",
    "#     files_left = glob(path+'/LH*.csv')\n",
    "#     print(len(files_right))\n",
    "#     print(len(files_left))"
   ]
  },
  {
   "cell_type": "markdown",
   "metadata": {},
   "source": [
    "## Import"
   ]
  },
  {
   "cell_type": "code",
   "execution_count": 42,
   "metadata": {},
   "outputs": [],
   "source": [
    "from glob import glob\n",
    "import pandas as pd\n",
    "import numpy as np\n",
    "from sklearn.model_selection import train_test_split\n",
    "from sklearn.preprocessing import StandardScaler\n",
    "from sklearn.neighbors import KNeighborsClassifier\n",
    "\n",
    "from keras.utils.np_utils import to_categorical\n",
    "from keras.models import Sequential\n",
    "from keras.layers.core import Dense, Dropout\n",
    "from keras.optimizers import SGD\n",
    "from keras.layers import Embedding, LSTM\n",
    "\n",
    "PATH = './PositionHandJoints'"
   ]
  },
  {
   "cell_type": "markdown",
   "metadata": {},
   "source": [
    "## Functions"
   ]
  },
  {
   "cell_type": "code",
   "execution_count": 115,
   "metadata": {},
   "outputs": [],
   "source": [
    "def identify_classes(path):\n",
    "    classes = set()\n",
    "    files = [f.split('\\\\')[1].split('.')[0] for f in glob(path+'/*.csv')]\n",
    "    for file in files:\n",
    "        classes.add(file.split('_')[-1])\n",
    "    return list(classes)\n",
    "\n",
    "def construct_dataset(path):\n",
    "    classes = identify_classes(PATH)\n",
    "    dataset = {}\n",
    "    for classe in classes:\n",
    "        file_classe = glob(path+f'/*{classe}.csv')\n",
    "        values = []\n",
    "        for fc in file_classe:\n",
    "            values.extend(pd.read_csv(fc, sep=' ').fillna(0).values)\n",
    "        dataset[classe] = [list(v) for v in values]\n",
    "    return dataset\n",
    "\n",
    "def flatten(l):\n",
    "    return [v for s in l for v in s]"
   ]
  },
  {
   "cell_type": "markdown",
   "metadata": {},
   "source": [
    "## Construction"
   ]
  },
  {
   "cell_type": "code",
   "execution_count": 116,
   "metadata": {},
   "outputs": [],
   "source": [
    "dataset = construct_dataset(PATH)\n",
    "keys = list(dataset.keys())\n",
    "data = flatten([dataset[key] for key in keys])\n",
    "target = flatten([[keys.index(key)] * len(dataset[key]) for key in keys])"
   ]
  },
  {
   "cell_type": "markdown",
   "metadata": {},
   "source": [
    "## Preprocessing"
   ]
  },
  {
   "cell_type": "code",
   "execution_count": 117,
   "metadata": {},
   "outputs": [],
   "source": [
    "X_train, X_test, y_train, y_test = train_test_split(data, target, test_size=0.2)\n",
    "X_train = np.asarray(X_train)\n",
    "X_test = np.asarray(X_test)\n",
    "\n",
    "scaler = StandardScaler().fit(data)\n",
    "X_train = scaler.fit_transform(X_train)\n",
    "X_test = scaler.transform(X_test)\n",
    "\n",
    "Y_train = to_categorical(y_train)\n",
    "Y_test = to_categorical(y_test)"
   ]
  },
  {
   "cell_type": "markdown",
   "metadata": {},
   "source": [
    "## Workflow"
   ]
  },
  {
   "cell_type": "markdown",
   "metadata": {},
   "source": [
    "### KNN"
   ]
  },
  {
   "cell_type": "code",
   "execution_count": 118,
   "metadata": {},
   "outputs": [
    {
     "data": {
      "text/plain": [
       "0.5004759386567953"
      ]
     },
     "execution_count": 118,
     "metadata": {},
     "output_type": "execute_result"
    }
   ],
   "source": [
    "neigh = KNeighborsClassifier(n_neighbors=Y_train.shape[1])\n",
    "neigh.fit(X_train, y_train)\n",
    "neigh.score(X_test, y_test)"
   ]
  },
  {
   "cell_type": "markdown",
   "metadata": {},
   "source": [
    "### MLP"
   ]
  },
  {
   "cell_type": "code",
   "execution_count": 119,
   "metadata": {},
   "outputs": [
    {
     "name": "stdout",
     "output_type": "stream",
     "text": [
      "Epoch 1/20\n",
      "148/148 [==============================] - 0s 3ms/step - loss: 2.0234 - accuracy: 0.3215\n",
      "Epoch 2/20\n",
      "148/148 [==============================] - 0s 3ms/step - loss: 0.9569 - accuracy: 0.5337\n",
      "Epoch 3/20\n",
      "148/148 [==============================] - 0s 2ms/step - loss: 0.7484 - accuracy: 0.5824\n",
      "Epoch 4/20\n",
      "148/148 [==============================] - 0s 3ms/step - loss: 0.7008 - accuracy: 0.5970\n",
      "Epoch 5/20\n",
      "148/148 [==============================] - 0s 2ms/step - loss: 0.6590 - accuracy: 0.6020\n",
      "Epoch 6/20\n",
      "148/148 [==============================] - 0s 2ms/step - loss: 0.6383 - accuracy: 0.6070\n",
      "Epoch 7/20\n",
      "148/148 [==============================] - 0s 2ms/step - loss: 0.6175 - accuracy: 0.6050\n",
      "Epoch 8/20\n",
      "148/148 [==============================] - 0s 3ms/step - loss: 0.6050 - accuracy: 0.6066\n",
      "Epoch 9/20\n",
      "148/148 [==============================] - 0s 3ms/step - loss: 0.5965 - accuracy: 0.6098\n",
      "Epoch 10/20\n",
      "148/148 [==============================] - 0s 2ms/step - loss: 0.5937 - accuracy: 0.6105\n",
      "Epoch 11/20\n",
      "148/148 [==============================] - 0s 2ms/step - loss: 0.5912 - accuracy: 0.6125\n",
      "Epoch 12/20\n",
      "148/148 [==============================] - 0s 2ms/step - loss: 0.5879 - accuracy: 0.6145\n",
      "Epoch 13/20\n",
      "148/148 [==============================] - 0s 2ms/step - loss: 0.5863 - accuracy: 0.6152\n",
      "Epoch 14/20\n",
      "148/148 [==============================] - 0s 2ms/step - loss: 0.5829 - accuracy: 0.6116\n",
      "Epoch 15/20\n",
      "148/148 [==============================] - 0s 2ms/step - loss: 0.5782 - accuracy: 0.6121\n",
      "Epoch 16/20\n",
      "148/148 [==============================] - 0s 3ms/step - loss: 0.5754 - accuracy: 0.6134\n",
      "Epoch 17/20\n",
      "148/148 [==============================] - 0s 3ms/step - loss: 0.5753 - accuracy: 0.6139\n",
      "Epoch 18/20\n",
      "148/148 [==============================] - 0s 2ms/step - loss: 0.5729 - accuracy: 0.6121\n",
      "Epoch 19/20\n",
      "148/148 [==============================] - 0s 3ms/step - loss: 0.5703 - accuracy: 0.6176\n",
      "Epoch 20/20\n",
      "148/148 [==============================] - 0s 3ms/step - loss: 0.5717 - accuracy: 0.6179\n",
      "['loss', 'accuracy'] --> [0.5781673192977905, 0.5986250638961792]\n"
     ]
    }
   ],
   "source": [
    "model = Sequential()\n",
    "model.add(Dense(X_train.shape[1], activation='relu'))\n",
    "model.add(Dense(X_train.shape[1] * 2, activation='relu'))\n",
    "model.add(Dense(Y_train.shape[1], activation='softmax'))\n",
    "\n",
    "sgd = SGD(lr=0.01, decay=1e-15, momentum=0.99, nesterov=True)\n",
    "model.compile(loss='categorical_crossentropy', optimizer=sgd, metrics=['accuracy'])\n",
    "\n",
    "model.fit(X_train, Y_train,epochs=20, batch_size=256)\n",
    "\n",
    "score = model.evaluate(X_test, Y_test, verbose=0)\n",
    "print(model.metrics_names, '-->', score)"
   ]
  },
  {
   "cell_type": "markdown",
   "metadata": {},
   "source": [
    "# THIS IS NOT GOOD"
   ]
  }
 ],
 "metadata": {
  "kernelspec": {
   "display_name": "Python 3",
   "language": "python",
   "name": "python3"
  },
  "language_info": {
   "codemirror_mode": {
    "name": "ipython",
    "version": 3
   },
   "file_extension": ".py",
   "mimetype": "text/x-python",
   "name": "python",
   "nbconvert_exporter": "python",
   "pygments_lexer": "ipython3",
   "version": "3.7.3"
  }
 },
 "nbformat": 4,
 "nbformat_minor": 4
}
