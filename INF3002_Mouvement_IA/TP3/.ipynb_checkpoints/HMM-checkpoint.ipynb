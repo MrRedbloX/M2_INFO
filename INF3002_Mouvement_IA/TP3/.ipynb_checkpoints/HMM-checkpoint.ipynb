{
 "cells": [
  {
   "cell_type": "markdown",
   "metadata": {},
   "source": [
    "# TP HMM"
   ]
  },
  {
   "cell_type": "markdown",
   "metadata": {},
   "source": [
    "## Modèle"
   ]
  },
  {
   "cell_type": "code",
   "execution_count": 28,
   "metadata": {},
   "outputs": [],
   "source": [
    "# mat_transition = {\n",
    "#     \"Pluie-Pluie\": 0.4,\n",
    "#     \"Pluie-Nuage\": 0.3,\n",
    "#     \"Pluie-Soleil\": 0.3,\n",
    "#     \"Nuage-Pluie\": 0.2,\n",
    "#     \"Nuage-Nuage\": 0.6,\n",
    "#     \"Nuage-Soleil\": 0.2,\n",
    "#     \"Soleil-Pluie\": 0.1,\n",
    "#     \"Soleil-Nuage\": 0.1,\n",
    "#     \"Soleil-Soleil\": 0.8\n",
    "# }\n",
    "\n",
    "# mat_emission = {\n",
    "#     \"Pluie-travailler\": 0.6,\n",
    "#     \"Pluie-marcher\": 0.1,\n",
    "#     \"Pluie-peindre\": 0.3,\n",
    "#     \"Nuage-travailler\": 0.3,\n",
    "#     \"Nuage-marcher\": 0.5,\n",
    "#     \"Nuage-peindre\": 0.2,\n",
    "#     \"Soleil-travailler\": 0.2,\n",
    "#     \"Soleil-marcher\": 0.6,\n",
    "#     \"Soleil-peindre\": 0.2\n",
    "# }\n",
    "\n",
    "# vect_prob_init = {\n",
    "#     \"Pluie\": 0.3,\n",
    "#     \"Nuage\": 0.5,\n",
    "#     \"Soleil\": 0.2\n",
    "# }\n",
    "mat_transition = {\n",
    "    \"Pluie\": {\n",
    "        \"Pluie\": 0.4,\n",
    "        \"Nuage\": 0.3,\n",
    "        \"Soleil\": 0.3\n",
    "    },\n",
    "    \"Nuage\": {\n",
    "        \"Pluie\": 0.2,\n",
    "        \"Nuage\": 0.6,\n",
    "        \"Soleil\": 0.2\n",
    "    },\n",
    "    \"Soleil\": {\n",
    "        \"Pluie\": 0.1,\n",
    "        \"Nuage\": 0.1,\n",
    "        \"Soleil\": 0.8\n",
    "    }\n",
    "}\n",
    "\n",
    "mat_emission = {\n",
    "    \"Pluie\": {\n",
    "        \"travailler\": 0.6,\n",
    "        \"marcher\": 0.1,\n",
    "        \"peindre\": 0.3\n",
    "    },\n",
    "    \"Nuage\": {\n",
    "        \"travailler\": 0.3,\n",
    "        \"marcher\": 0.5,\n",
    "        \"peindre\": 0.2\n",
    "    },\n",
    "    \"Soleil\": {\n",
    "        \"travailler\": 0.2,\n",
    "        \"marcher\": 0.6,\n",
    "        \"peindre\": 0.2\n",
    "    }\n",
    "}\n",
    "\n",
    "vect_prob_init = {\n",
    "    \"Pluie\": 0.3,\n",
    "    \"Nuage\": 0.5,\n",
    "    \"Soleil\": 0.2\n",
    "}\n",
    "\n",
    "symbs = (\"travailler\", \"marcher\", \"peindre\")"
   ]
  },
  {
   "cell_type": "markdown",
   "metadata": {},
   "source": [
    "## Fonctions"
   ]
  },
  {
   "cell_type": "code",
   "execution_count": 26,
   "metadata": {},
   "outputs": [],
   "source": [
    "\"\"\"\n",
    "Retourne la probabilité d'émettre un symbole donné\n",
    "\"\"\"\n",
    "def prob_from_symb(symb):\n",
    "    if symb in symbs:\n",
    "        res = []\n",
    "        for state in vect_prob_init:\n",
    "            for trans in mat_transition[state]:\n",
    "                res.append(vect_prob_init[state] * mat_emission[state][symb] * mat_transition[state][trans])\n",
    "        return max(res)\n",
    "    return 0\n",
    "\n",
    "\"\"\"\n",
    "Retourne la probabilité d'observer une séquence donnée\n",
    "\"\"\"\n",
    "def prob_from_seq(seq):\n",
    "    res = 1\n",
    "    for symb in seq:\n",
    "        res *= prob_from_symb(symb)\n",
    "    return res"
   ]
  },
  {
   "cell_type": "markdown",
   "metadata": {},
   "source": [
    "## Test"
   ]
  },
  {
   "cell_type": "code",
   "execution_count": 27,
   "metadata": {},
   "outputs": [
    {
     "name": "stdout",
     "output_type": "stream",
     "text": [
      "Probalité de O: 0.00012149999999999999\n"
     ]
    }
   ],
   "source": [
    "O = [\"marcher\", \"peindre\", \"marcher\", \"travailler\"]\n",
    "print(\"Probalité de O:\", prob_from_seq(O))"
   ]
  },
  {
   "cell_type": "code",
   "execution_count": null,
   "metadata": {},
   "outputs": [],
   "source": []
  }
 ],
 "metadata": {
  "kernelspec": {
   "display_name": "Python 3",
   "language": "python",
   "name": "python3"
  },
  "language_info": {
   "codemirror_mode": {
    "name": "ipython",
    "version": 3
   },
   "file_extension": ".py",
   "mimetype": "text/x-python",
   "name": "python",
   "nbconvert_exporter": "python",
   "pygments_lexer": "ipython3",
   "version": "3.7.3"
  }
 },
 "nbformat": 4,
 "nbformat_minor": 4
}
