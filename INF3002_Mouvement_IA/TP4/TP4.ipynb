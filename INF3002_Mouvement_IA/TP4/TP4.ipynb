{
 "cells": [
  {
   "cell_type": "markdown",
   "metadata": {},
   "source": [
    "# TP - Reconnaissance de configurations manuelles Python et Scikit-Learn"
   ]
  },
  {
   "cell_type": "markdown",
   "metadata": {},
   "source": [
    "## Import"
   ]
  },
  {
   "cell_type": "code",
   "execution_count": 16,
   "metadata": {},
   "outputs": [],
   "source": [
    "from glob import glob\n",
    "import pandas as pd\n",
    "import numpy as np\n",
    "from sklearn.model_selection import train_test_split\n",
    "from sklearn.preprocessing import StandardScaler\n",
    "from sklearn.svm import SVC\n",
    "from sklearn.linear_model import LogisticRegression\n",
    "from sklearn.neighbors import KNeighborsClassifier\n",
    "from sklearn.naive_bayes import GaussianNB\n",
    "\n",
    "from keras.utils.np_utils import to_categorical\n",
    "from keras.models import Sequential\n",
    "from keras.layers.core import Dense\n",
    "from keras.optimizers import SGD\n",
    "\n",
    "#Require a folder with all csv files\n",
    "PATH = './PositionHandJoints'"
   ]
  },
  {
   "cell_type": "markdown",
   "metadata": {},
   "source": [
    "## Functions"
   ]
  },
  {
   "cell_type": "code",
   "execution_count": 2,
   "metadata": {},
   "outputs": [],
   "source": [
    "#For Windows only\n",
    "def identify_classes(path):\n",
    "    classes = set()\n",
    "    files = [f.split('\\\\')[1].split('.')[0] for f in glob(path+'/*.csv')]\n",
    "    for file in files:\n",
    "        classes.add(file.split('_')[-1])\n",
    "    return list(classes)\n",
    "\n",
    "def construct_dataset(path):\n",
    "    classes = identify_classes(path)\n",
    "    dataset = {}\n",
    "    for classe in classes:\n",
    "        file_classe = glob(path+f'/*{classe}.csv')\n",
    "        values = []\n",
    "        for fc in file_classe:\n",
    "            values.extend(pd.read_csv(fc, sep=' ').fillna(0).values)\n",
    "        dataset[classe] = [list(v) for v in values]\n",
    "    return dataset\n",
    "\n",
    "def flatten(l):\n",
    "    return [v for s in l for v in s]"
   ]
  },
  {
   "cell_type": "markdown",
   "metadata": {},
   "source": [
    "## Construction"
   ]
  },
  {
   "cell_type": "code",
   "execution_count": 3,
   "metadata": {},
   "outputs": [],
   "source": [
    "dataset = construct_dataset(PATH)\n",
    "keys = list(dataset.keys())\n",
    "\n",
    "#data / target are like: [0.2 ... -0.8] --> 1 which means each frame correspond to a class\n",
    "data = flatten([dataset[key] for key in keys])\n",
    "target = flatten([[keys.index(key)] * len(dataset[key]) for key in keys])"
   ]
  },
  {
   "cell_type": "markdown",
   "metadata": {},
   "source": [
    "## Preprocessing"
   ]
  },
  {
   "cell_type": "code",
   "execution_count": 4,
   "metadata": {},
   "outputs": [],
   "source": [
    "X_train, X_test, y_train, y_test = train_test_split(data, target, test_size=0.2)\n",
    "X_train = np.asarray(X_train)\n",
    "X_test = np.asarray(X_test)\n",
    "\n",
    "scaler = StandardScaler().fit(data)\n",
    "X_train = scaler.fit_transform(X_train)\n",
    "X_test = scaler.transform(X_test)\n",
    "\n",
    "Y_train = to_categorical(y_train)\n",
    "Y_test = to_categorical(y_test)"
   ]
  },
  {
   "cell_type": "markdown",
   "metadata": {},
   "source": [
    "## Workflow"
   ]
  },
  {
   "cell_type": "markdown",
   "metadata": {},
   "source": [
    "### SVC"
   ]
  },
  {
   "cell_type": "code",
   "execution_count": 9,
   "metadata": {},
   "outputs": [
    {
     "data": {
      "text/plain": [
       "0.5760973030142782"
      ]
     },
     "execution_count": 9,
     "metadata": {},
     "output_type": "execute_result"
    }
   ],
   "source": [
    "svc = SVC(gamma='auto')\n",
    "svc.fit(X_train, y_train)\n",
    "svc.score(X_test, y_test)"
   ]
  },
  {
   "cell_type": "markdown",
   "metadata": {},
   "source": [
    "### LogisticRegression"
   ]
  },
  {
   "cell_type": "code",
   "execution_count": 13,
   "metadata": {},
   "outputs": [
    {
     "name": "stderr",
     "output_type": "stream",
     "text": [
      "C:\\Users\\Megaport\\Anaconda3\\lib\\site-packages\\sklearn\\linear_model\\_logistic.py:940: ConvergenceWarning: lbfgs failed to converge (status=1):\n",
      "STOP: TOTAL NO. of ITERATIONS REACHED LIMIT.\n",
      "\n",
      "Increase the number of iterations (max_iter) or scale the data as shown in:\n",
      "    https://scikit-learn.org/stable/modules/preprocessing.html\n",
      "Please also refer to the documentation for alternative solver options:\n",
      "    https://scikit-learn.org/stable/modules/linear_model.html#logistic-regression\n",
      "  extra_warning_msg=_LOGISTIC_SOLVER_CONVERGENCE_MSG)\n"
     ]
    },
    {
     "data": {
      "text/plain": [
       "0.439555790586991"
      ]
     },
     "execution_count": 13,
     "metadata": {},
     "output_type": "execute_result"
    }
   ],
   "source": [
    "lr = LogisticRegression(max_iter=1000).fit(X_train, y_train)\n",
    "lr.score(X_test, y_test)"
   ]
  },
  {
   "cell_type": "markdown",
   "metadata": {},
   "source": [
    "### KNN"
   ]
  },
  {
   "cell_type": "code",
   "execution_count": 5,
   "metadata": {},
   "outputs": [
    {
     "data": {
      "text/plain": [
       "0.5118984664198837"
      ]
     },
     "execution_count": 5,
     "metadata": {},
     "output_type": "execute_result"
    }
   ],
   "source": [
    "neigh = KNeighborsClassifier(n_neighbors=Y_train.shape[1])\n",
    "neigh.fit(X_train, y_train)\n",
    "neigh.score(X_test, y_test)"
   ]
  },
  {
   "cell_type": "markdown",
   "metadata": {},
   "source": [
    "### GaussianNB"
   ]
  },
  {
   "cell_type": "code",
   "execution_count": 15,
   "metadata": {},
   "outputs": [
    {
     "data": {
      "text/plain": [
       "0.15631940772078265"
      ]
     },
     "execution_count": 15,
     "metadata": {},
     "output_type": "execute_result"
    }
   ],
   "source": [
    "gnb = GaussianNB()\n",
    "gnb.fit(X_train, y_train)\n",
    "gnb.score(X_test, y_test)"
   ]
  },
  {
   "cell_type": "markdown",
   "metadata": {},
   "source": [
    "### MLP"
   ]
  },
  {
   "cell_type": "code",
   "execution_count": 6,
   "metadata": {},
   "outputs": [
    {
     "name": "stdout",
     "output_type": "stream",
     "text": [
      "Epoch 1/20\n",
      "148/148 [==============================] - 0s 3ms/step - loss: 2.0489 - accuracy: 0.3194\n",
      "Epoch 2/20\n",
      "148/148 [==============================] - 0s 2ms/step - loss: 0.9747 - accuracy: 0.5317\n",
      "Epoch 3/20\n",
      "148/148 [==============================] - 0s 2ms/step - loss: 0.7559 - accuracy: 0.5802\n",
      "Epoch 4/20\n",
      "148/148 [==============================] - 0s 2ms/step - loss: 0.6844 - accuracy: 0.5963\n",
      "Epoch 5/20\n",
      "148/148 [==============================] - 0s 2ms/step - loss: 0.6435 - accuracy: 0.6042\n",
      "Epoch 6/20\n",
      "148/148 [==============================] - 0s 2ms/step - loss: 0.6253 - accuracy: 0.6058\n",
      "Epoch 7/20\n",
      "148/148 [==============================] - 0s 2ms/step - loss: 0.6154 - accuracy: 0.6076\n",
      "Epoch 8/20\n",
      "148/148 [==============================] - 0s 2ms/step - loss: 0.6069 - accuracy: 0.6080\n",
      "Epoch 9/20\n",
      "148/148 [==============================] - 0s 2ms/step - loss: 0.5973 - accuracy: 0.6112\n",
      "Epoch 10/20\n",
      "148/148 [==============================] - 0s 2ms/step - loss: 0.5917 - accuracy: 0.6121\n",
      "Epoch 11/20\n",
      "148/148 [==============================] - 0s 3ms/step - loss: 0.5978 - accuracy: 0.6086\n",
      "Epoch 12/20\n",
      "148/148 [==============================] - 0s 3ms/step - loss: 0.5971 - accuracy: 0.6143\n",
      "Epoch 13/20\n",
      "148/148 [==============================] - 0s 3ms/step - loss: 0.5896 - accuracy: 0.6112: 0s - loss: 0.5961 - ac\n",
      "Epoch 14/20\n",
      "148/148 [==============================] - 0s 3ms/step - loss: 0.5800 - accuracy: 0.6140\n",
      "Epoch 15/20\n",
      "148/148 [==============================] - 0s 3ms/step - loss: 0.5791 - accuracy: 0.6134\n",
      "Epoch 16/20\n",
      "148/148 [==============================] - 0s 2ms/step - loss: 0.5756 - accuracy: 0.6129\n",
      "Epoch 17/20\n",
      "148/148 [==============================] - 0s 2ms/step - loss: 0.5717 - accuracy: 0.6178\n",
      "Epoch 18/20\n",
      "148/148 [==============================] - 0s 2ms/step - loss: 0.5692 - accuracy: 0.6137\n",
      "Epoch 19/20\n",
      "148/148 [==============================] - 0s 2ms/step - loss: 0.5722 - accuracy: 0.6157\n",
      "Epoch 20/20\n",
      "148/148 [==============================] - 0s 2ms/step - loss: 0.5695 - accuracy: 0.6153\n",
      "['loss', 'accuracy'] --> [0.5835664868354797, 0.612057089805603]\n"
     ]
    }
   ],
   "source": [
    "model = Sequential()\n",
    "model.add(Dense(X_train.shape[1], activation='relu'))\n",
    "model.add(Dense(X_train.shape[1] * 2, activation='relu'))\n",
    "model.add(Dense(Y_train.shape[1], activation='softmax'))\n",
    "\n",
    "sgd = SGD(lr=0.01, decay=1e-15, momentum=0.99, nesterov=True)\n",
    "model.compile(loss='categorical_crossentropy', optimizer=sgd, metrics=['accuracy'])\n",
    "\n",
    "model.fit(X_train, Y_train,epochs=20, batch_size=256)\n",
    "\n",
    "score = model.evaluate(X_test, Y_test, verbose=0)\n",
    "print(model.metrics_names, '-->', score)"
   ]
  },
  {
   "cell_type": "markdown",
   "metadata": {},
   "source": [
    "From classifiers we observe that SVC seems to be the best.\n",
    "MLP is better than any classifier.\n",
    "The results are still not satisfiying."
   ]
  }
 ],
 "metadata": {
  "kernelspec": {
   "display_name": "Python 3",
   "language": "python",
   "name": "python3"
  },
  "language_info": {
   "codemirror_mode": {
    "name": "ipython",
    "version": 3
   },
   "file_extension": ".py",
   "mimetype": "text/x-python",
   "name": "python",
   "nbconvert_exporter": "python",
   "pygments_lexer": "ipython3",
   "version": "3.7.3"
  }
 },
 "nbformat": 4,
 "nbformat_minor": 4
}
